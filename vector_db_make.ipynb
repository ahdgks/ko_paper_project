{
 "cells": [
  {
   "cell_type": "code",
   "execution_count": 10,
   "id": "572720ee",
   "metadata": {},
   "outputs": [],
   "source": [
    "import pandas as pd\n",
    "from langchain_community.document_loaders import DataFrameLoader\n",
    "from langchain_community.embeddings import HuggingFaceEmbeddings\n",
    "from transformers import AutoTokenizer\n",
    "from langchain.text_splitter import RecursiveCharacterTextSplitter"
   ]
  },
  {
   "cell_type": "code",
   "execution_count": 2,
   "id": "6110a450",
   "metadata": {},
   "outputs": [],
   "source": [
    "#rag data 로드\n",
    "rag_df=pd.read_csv('rag_dataset.csv',encoding='utf-8',index_col=0)"
   ]
  },
  {
   "cell_type": "code",
   "execution_count": 3,
   "id": "487d1a84",
   "metadata": {},
   "outputs": [],
   "source": [
    "loader = DataFrameLoader(rag_df, page_content_column=\"rag_text\")"
   ]
  },
  {
   "cell_type": "code",
   "execution_count": 6,
   "id": "9c77917c",
   "metadata": {},
   "outputs": [
    {
     "name": "stderr",
     "output_type": "stream",
     "text": [
      "2024-04-01 15:37:10.433544: I tensorflow/core/util/port.cc:111] oneDNN custom operations are on. You may see slightly different numerical results due to floating-point round-off errors from different computation orders. To turn them off, set the environment variable `TF_ENABLE_ONEDNN_OPTS=0`.\n",
      "2024-04-01 15:37:10.451216: E tensorflow/compiler/xla/stream_executor/cuda/cuda_dnn.cc:9342] Unable to register cuDNN factory: Attempting to register factory for plugin cuDNN when one has already been registered\n",
      "2024-04-01 15:37:10.451234: E tensorflow/compiler/xla/stream_executor/cuda/cuda_fft.cc:609] Unable to register cuFFT factory: Attempting to register factory for plugin cuFFT when one has already been registered\n",
      "2024-04-01 15:37:10.451246: E tensorflow/compiler/xla/stream_executor/cuda/cuda_blas.cc:1518] Unable to register cuBLAS factory: Attempting to register factory for plugin cuBLAS when one has already been registered\n",
      "2024-04-01 15:37:10.455112: I tensorflow/core/platform/cpu_feature_guard.cc:182] This TensorFlow binary is optimized to use available CPU instructions in performance-critical operations.\n",
      "To enable the following instructions: AVX2 AVX_VNNI FMA, in other operations, rebuild TensorFlow with the appropriate compiler flags.\n",
      "2024-04-01 15:37:10.793557: W tensorflow/compiler/tf2tensorrt/utils/py_utils.cc:38] TF-TRT Warning: Could not find TensorRT\n"
     ]
    }
   ],
   "source": [
    "# 벡터스토어에 임베딩할 모델 선언\n",
    "model_name = 'intfloat/multilingual-e5-large'\n",
    "model_kwargs = {\"device\":\"cuda\"}\n",
    "encode_kwargs={'normalize_embeddings':True}\n",
    "embeddings = HuggingFaceEmbeddings(\n",
    "    model_name=model_name,\n",
    "    model_kwargs=model_kwargs,\n",
    "    encode_kwargs=encode_kwargs\n",
    "\n",
    ")"
   ]
  },
  {
   "cell_type": "code",
   "execution_count": 11,
   "id": "4cc3f6f6",
   "metadata": {},
   "outputs": [
    {
     "data": {
      "text/plain": [
       "168900"
      ]
     },
     "execution_count": 11,
     "metadata": {},
     "output_type": "execute_result"
    }
   ],
   "source": [
    "pages=loader.load_and_split()\n",
    "tokenizer = AutoTokenizer.from_pretrained('intfloat/multilingual-e5-large')\n",
    "\n",
    "def tiktoken_len(text):\n",
    "    tokens = tokenizer.encode(text)\n",
    "    return len(tokens)\n",
    "\n",
    "# text_splitter로 chunksize, chunkoverlap 등을 설정해주는 텍스트 전처리를 함\n",
    "text_splitter = RecursiveCharacterTextSplitter(chunk_size=500,chunk_overlap=150, length_function=tiktoken_len)\n",
    "texts = text_splitter.split_documents(pages)\n",
    "len(texts)"
   ]
  },
  {
   "cell_type": "code",
   "execution_count": null,
   "id": "ad93eed7",
   "metadata": {},
   "outputs": [],
   "source": [
    "# 임베딩 모델 선언 후 Chroma db에 저장함\n",
    "vector_db = Chroma.from_documents(texts, hf,persist_directory='./k-paper_db')\n",
    "#Chroma에 저장하는 코드"
   ]
  }
 ],
 "metadata": {
  "kernelspec": {
   "display_name": "ahdgks",
   "language": "python",
   "name": "ahdgks"
  },
  "language_info": {
   "codemirror_mode": {
    "name": "ipython",
    "version": 3
   },
   "file_extension": ".py",
   "mimetype": "text/x-python",
   "name": "python",
   "nbconvert_exporter": "python",
   "pygments_lexer": "ipython3",
   "version": "3.9.16"
  }
 },
 "nbformat": 4,
 "nbformat_minor": 5
}
